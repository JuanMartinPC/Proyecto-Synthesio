{
 "cells": [
  {
   "cell_type": "code",
   "execution_count": 1,
   "id": "340b2f2a",
   "metadata": {},
   "outputs": [],
   "source": [
    "import pandas as pd\n",
    "import json\n",
    "import ast"
   ]
  },
  {
   "cell_type": "code",
   "execution_count": 2,
   "id": "a3f90ffc",
   "metadata": {},
   "outputs": [
    {
     "name": "stdout",
     "output_type": "stream",
     "text": [
      "Total de datos: 619856\n"
     ]
    },
    {
     "data": {
      "text/plain": [
       "['synthesio_0_al_500.csv tiene 12638 datos.',\n",
       " 'synthesio_500_al_1000.csv tiene 15180 datos.',\n",
       " 'synthesio_1000_al_1500.csv tiene 12759 datos.',\n",
       " 'synthesio_1500_al_2000.csv tiene 10958 datos.',\n",
       " 'synthesio_2000_al_2500.csv tiene 12412 datos.',\n",
       " 'synthesio_2500_al_3000.csv tiene 16536 datos.',\n",
       " 'synthesio_3000_al_3500.csv tiene 23778 datos.',\n",
       " 'synthesio_3500_al_4000.csv tiene 30280 datos.',\n",
       " 'synthesio_4000_al_4500.csv tiene 23702 datos.',\n",
       " 'synthesio_4500_al_5000.csv tiene 27019 datos.',\n",
       " 'synthesio_5000_al_5500.csv tiene 18147 datos.',\n",
       " 'synthesio_5500_al_6000.csv tiene 15543 datos.',\n",
       " 'synthesio_6000_al_6500.csv tiene 17828 datos.',\n",
       " 'synthesio_6500_al_7000.csv tiene 18319 datos.',\n",
       " 'synthesio_7000_al_7500.csv tiene 18072 datos.',\n",
       " 'synthesio_7500_al_8000.csv tiene 16804 datos.',\n",
       " 'synthesio_8000_al_8500.csv tiene 21244 datos.',\n",
       " 'synthesio_8500_al_9000.csv tiene 25061 datos.',\n",
       " 'synthesio_9000_al_9500.csv tiene 13775 datos.',\n",
       " 'synthesio_9500_al_10000.csv tiene 13812 datos.',\n",
       " 'synthesio_ep2_0_al_500.csv tiene 12676 datos.',\n",
       " 'synthesio_ep2_500_al_1000.csv tiene 15220 datos.',\n",
       " 'synthesio_ep2_1000_al_1500.csv tiene 13144 datos.',\n",
       " 'synthesio_ep2_1500_al_2000.csv tiene 11587 datos.',\n",
       " 'synthesio_ep2_2000_al_2500.csv tiene 12489 datos.',\n",
       " 'synthesio_ep2_2500_al_3000.csv tiene 17151 datos.',\n",
       " 'synthesio_ep2_3000_al_3500.csv tiene 23631 datos.',\n",
       " 'synthesio_ep2_3500_al_4000.csv tiene 30769 datos.',\n",
       " 'synthesio_ep2_4000_al_4500.csv tiene 22934 datos.',\n",
       " 'synthesio_ep2_4500_al_5000.csv tiene 27141 datos.',\n",
       " 'synthesio_ep2_5000_al_5500.csv tiene 18162 datos.',\n",
       " 'synthesio_ep2_5500_al_6000.csv tiene 15464 datos.',\n",
       " 'synthesio_ep2_6000_al_6500.csv tiene 17746 datos.',\n",
       " 'synthesio_ep2_6500_al_7000.csv tiene 17875 datos.']"
      ]
     },
     "execution_count": 2,
     "metadata": {},
     "output_type": "execute_result"
    }
   ],
   "source": [
    "archivos = open('nombres_de_datos_synthesio.txt', 'r', encoding=\"UTF-8\").read().split('/n')\n",
    "archivos = [x for x in archivos[0].split('\\n')]\n",
    "\n",
    "\n",
    "lista = []\n",
    "cantidades = []\n",
    "\n",
    "for nombre in archivos:\n",
    "    total_datos = 0\n",
    "    csv = pd.read_csv(nombre)\n",
    "    diccio = dict(csv)\n",
    "    for claves in diccio.keys():\n",
    "        correccion = ast.literal_eval(diccio[claves][0])\n",
    "        total_datos = total_datos + len(correccion)\n",
    "        \n",
    "    cantidades.append(total_datos)    \n",
    "    mensaje = f'{nombre} tiene {total_datos} datos.'\n",
    "    lista.append(mensaje)\n",
    "    \n",
    "\n",
    "print('Total de datos:', sum(cantidades))    \n",
    "lista"
   ]
  }
 ],
 "metadata": {
  "kernelspec": {
   "display_name": "Python 3 (ipykernel)",
   "language": "python",
   "name": "python3"
  },
  "language_info": {
   "codemirror_mode": {
    "name": "ipython",
    "version": 3
   },
   "file_extension": ".py",
   "mimetype": "text/x-python",
   "name": "python",
   "nbconvert_exporter": "python",
   "pygments_lexer": "ipython3",
   "version": "3.7.0"
  }
 },
 "nbformat": 4,
 "nbformat_minor": 5
}
